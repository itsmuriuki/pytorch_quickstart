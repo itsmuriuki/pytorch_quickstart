{
  "nbformat": 4,
  "nbformat_minor": 0,
  "metadata": {
    "colab": {
      "provenance": [],
      "gpuType": "T4"
    },
    "kernelspec": {
      "name": "python3",
      "display_name": "Python 3"
    },
    "language_info": {
      "name": "python"
    },
    "accelerator": "GPU"
  },
  "cells": [
    {
      "cell_type": "markdown",
      "source": [
        "# Tensors"
      ],
      "metadata": {
        "id": "i3XEj4C4o7pB"
      }
    },
    {
      "cell_type": "code",
      "source": [
        "# !pip install torch --upgrade\n",
        "# !pip install accelerate"
      ],
      "metadata": {
        "id": "kwRc50waPl6x"
      },
      "execution_count": 2,
      "outputs": []
    },
    {
      "cell_type": "code",
      "source": [
        "!nvidia-smi"
      ],
      "metadata": {
        "colab": {
          "base_uri": "https://localhost:8080/"
        },
        "id": "wYydeZ6cQphL",
        "outputId": "c1a0547d-9cdf-435a-d2dd-8b5a4e353bc1"
      },
      "execution_count": 3,
      "outputs": [
        {
          "output_type": "stream",
          "name": "stdout",
          "text": [
            "Mon Mar 10 09:56:00 2025       \n",
            "+-----------------------------------------------------------------------------------------+\n",
            "| NVIDIA-SMI 550.54.15              Driver Version: 550.54.15      CUDA Version: 12.4     |\n",
            "|-----------------------------------------+------------------------+----------------------+\n",
            "| GPU  Name                 Persistence-M | Bus-Id          Disp.A | Volatile Uncorr. ECC |\n",
            "| Fan  Temp   Perf          Pwr:Usage/Cap |           Memory-Usage | GPU-Util  Compute M. |\n",
            "|                                         |                        |               MIG M. |\n",
            "|=========================================+========================+======================|\n",
            "|   0  Tesla T4                       Off |   00000000:00:04.0 Off |                    0 |\n",
            "| N/A   53C    P8             10W /   70W |       0MiB /  15360MiB |      0%      Default |\n",
            "|                                         |                        |                  N/A |\n",
            "+-----------------------------------------+------------------------+----------------------+\n",
            "                                                                                         \n",
            "+-----------------------------------------------------------------------------------------+\n",
            "| Processes:                                                                              |\n",
            "|  GPU   GI   CI        PID   Type   Process name                              GPU Memory |\n",
            "|        ID   ID                                                               Usage      |\n",
            "|=========================================================================================|\n",
            "|  No running processes found                                                             |\n",
            "+-----------------------------------------------------------------------------------------+\n"
          ]
        }
      ]
    },
    {
      "cell_type": "code",
      "execution_count": 4,
      "metadata": {
        "id": "SBC3bp6rohZM"
      },
      "outputs": [],
      "source": [
        "import torch\n",
        "import numpy as np\n",
        "from accelerate import Accelerator"
      ]
    },
    {
      "cell_type": "code",
      "source": [
        "# 2 dimensions\n",
        "x = torch.empty(2,3)\n",
        "\n",
        "print(x)"
      ],
      "metadata": {
        "colab": {
          "base_uri": "https://localhost:8080/"
        },
        "id": "zOHUma7JoyC2",
        "outputId": "7c4dcaf1-59ea-4488-e263-e4b8d9af3f0d"
      },
      "execution_count": 5,
      "outputs": [
        {
          "output_type": "stream",
          "name": "stdout",
          "text": [
            "tensor([[ 2.4356e+24, -2.2036e+29,  2.5054e-38],\n",
            "        [-8.4954e+29,  2.5054e-38,  2.4359e+24]])\n"
          ]
        }
      ]
    },
    {
      "cell_type": "code",
      "source": [
        "# 3 dimensions tensor\n",
        "y = torch.empty(3,2,3)\n",
        "\n",
        "print(y)"
      ],
      "metadata": {
        "colab": {
          "base_uri": "https://localhost:8080/"
        },
        "id": "WjSDcoXxpIDN",
        "outputId": "ba9707f9-e98c-4abe-ca4d-74fce074da20"
      },
      "execution_count": 6,
      "outputs": [
        {
          "output_type": "stream",
          "name": "stdout",
          "text": [
            "tensor([[[4.1830e+32, 4.3939e-41, 3.5540e-34],\n",
            "         [0.0000e+00, 3.3631e-43, 1.8217e-44]],\n",
            "\n",
            "        [[1.4013e-45, 0.0000e+00, 3.8956e-34],\n",
            "         [0.0000e+00, 3.8955e-34, 0.0000e+00]],\n",
            "\n",
            "        [[2.8026e-45, 0.0000e+00, 0.0000e+00],\n",
            "         [0.0000e+00, 0.0000e+00, 4.3938e-41]]])\n"
          ]
        }
      ]
    },
    {
      "cell_type": "markdown",
      "source": [
        "# Initializing a tensor Directly from data"
      ],
      "metadata": {
        "id": "iugXKXmnpPy9"
      }
    },
    {
      "cell_type": "code",
      "source": [
        "data = [[1,2], [3,4]]"
      ],
      "metadata": {
        "id": "c_-s9myiEoCi"
      },
      "execution_count": 7,
      "outputs": []
    },
    {
      "cell_type": "code",
      "source": [
        "data"
      ],
      "metadata": {
        "colab": {
          "base_uri": "https://localhost:8080/"
        },
        "id": "i6vIfb7iEthZ",
        "outputId": "1f159891-fa3a-484a-d7e4-630b28118796"
      },
      "execution_count": 8,
      "outputs": [
        {
          "output_type": "execute_result",
          "data": {
            "text/plain": [
              "[[1, 2], [3, 4]]"
            ]
          },
          "metadata": {},
          "execution_count": 8
        }
      ]
    },
    {
      "cell_type": "code",
      "source": [
        "x_data = torch.tensor(data)"
      ],
      "metadata": {
        "id": "VVSBZNeOEuLc"
      },
      "execution_count": 9,
      "outputs": []
    },
    {
      "cell_type": "markdown",
      "source": [
        "# From Numpy array"
      ],
      "metadata": {
        "id": "UGX92LKjEywf"
      }
    },
    {
      "cell_type": "code",
      "source": [
        "np_array = np.array(data)\n",
        "np_array"
      ],
      "metadata": {
        "colab": {
          "base_uri": "https://localhost:8080/"
        },
        "id": "C_j_6UEAFHKr",
        "outputId": "d5427635-7bd1-4f00-8f33-9467a34c25ab"
      },
      "execution_count": 10,
      "outputs": [
        {
          "output_type": "execute_result",
          "data": {
            "text/plain": [
              "array([[1, 2],\n",
              "       [3, 4]])"
            ]
          },
          "metadata": {},
          "execution_count": 10
        }
      ]
    },
    {
      "cell_type": "code",
      "source": [
        "x_np = torch.from_numpy(np_array)\n",
        "x_np"
      ],
      "metadata": {
        "colab": {
          "base_uri": "https://localhost:8080/"
        },
        "id": "_ffTkTvCFLma",
        "outputId": "2a3e966d-0053-4670-8490-faf627ad470a"
      },
      "execution_count": 11,
      "outputs": [
        {
          "output_type": "execute_result",
          "data": {
            "text/plain": [
              "tensor([[1, 2],\n",
              "        [3, 4]])"
            ]
          },
          "metadata": {},
          "execution_count": 11
        }
      ]
    },
    {
      "cell_type": "markdown",
      "source": [
        "# From another Tensor"
      ],
      "metadata": {
        "id": "yzvq1sN6FTf8"
      }
    },
    {
      "cell_type": "code",
      "source": [
        "x_ones = torch.ones_like(x_data)\n",
        "x_ones"
      ],
      "metadata": {
        "colab": {
          "base_uri": "https://localhost:8080/"
        },
        "id": "qZVPN6XjJwTc",
        "outputId": "d935ec82-7159-465b-8972-d6e820340d45"
      },
      "execution_count": 12,
      "outputs": [
        {
          "output_type": "execute_result",
          "data": {
            "text/plain": [
              "tensor([[1, 1],\n",
              "        [1, 1]])"
            ]
          },
          "metadata": {},
          "execution_count": 12
        }
      ]
    },
    {
      "cell_type": "code",
      "source": [
        "x_rand = torch.rand_like(x_data, dtype=torch.float)\n",
        "x_rand"
      ],
      "metadata": {
        "colab": {
          "base_uri": "https://localhost:8080/"
        },
        "id": "m6uHvSZ6J2SS",
        "outputId": "4ff54fb1-e1c3-4084-f6ac-813e7e7f3ea3"
      },
      "execution_count": 13,
      "outputs": [
        {
          "output_type": "execute_result",
          "data": {
            "text/plain": [
              "tensor([[0.9559, 0.8301],\n",
              "        [0.0698, 0.5219]])"
            ]
          },
          "metadata": {},
          "execution_count": 13
        }
      ]
    },
    {
      "cell_type": "markdown",
      "source": [
        "# with random or constant values"
      ],
      "metadata": {
        "id": "c7U5ByxbKFI-"
      }
    },
    {
      "cell_type": "code",
      "source": [
        "shape = (2,3)"
      ],
      "metadata": {
        "id": "ofLVhwunKdA0"
      },
      "execution_count": 14,
      "outputs": []
    },
    {
      "cell_type": "code",
      "source": [
        "shape"
      ],
      "metadata": {
        "colab": {
          "base_uri": "https://localhost:8080/"
        },
        "id": "nSnuhmBhKiXg",
        "outputId": "ce5d9088-5269-42bb-9d15-216ffbbf1ab5"
      },
      "execution_count": 15,
      "outputs": [
        {
          "output_type": "execute_result",
          "data": {
            "text/plain": [
              "(2, 3)"
            ]
          },
          "metadata": {},
          "execution_count": 15
        }
      ]
    },
    {
      "cell_type": "code",
      "source": [
        "random_tensor = torch.rand(shape)\n",
        "random_tensor"
      ],
      "metadata": {
        "colab": {
          "base_uri": "https://localhost:8080/"
        },
        "id": "8t990fx9KjUy",
        "outputId": "dfcf0507-1a71-4ea2-a937-5221da28dacf"
      },
      "execution_count": 16,
      "outputs": [
        {
          "output_type": "execute_result",
          "data": {
            "text/plain": [
              "tensor([[0.0740, 0.2854, 0.6863],\n",
              "        [0.9899, 0.4097, 0.5511]])"
            ]
          },
          "metadata": {},
          "execution_count": 16
        }
      ]
    },
    {
      "cell_type": "code",
      "source": [
        "ones_tensor = torch.ones(shape)\n",
        "ones_tensor"
      ],
      "metadata": {
        "colab": {
          "base_uri": "https://localhost:8080/"
        },
        "id": "q-FtB5XzKrlO",
        "outputId": "7f922397-6858-49b2-f260-158f46dcd711"
      },
      "execution_count": 17,
      "outputs": [
        {
          "output_type": "execute_result",
          "data": {
            "text/plain": [
              "tensor([[1., 1., 1.],\n",
              "        [1., 1., 1.]])"
            ]
          },
          "metadata": {},
          "execution_count": 17
        }
      ]
    },
    {
      "cell_type": "code",
      "source": [
        "zeros_tensor = torch.zeros(shape)\n",
        "zeros_tensor"
      ],
      "metadata": {
        "colab": {
          "base_uri": "https://localhost:8080/"
        },
        "id": "-lY_YHDgLHY3",
        "outputId": "204d1721-cc9f-4e53-80af-55e9b759beab"
      },
      "execution_count": 18,
      "outputs": [
        {
          "output_type": "execute_result",
          "data": {
            "text/plain": [
              "tensor([[0., 0., 0.],\n",
              "        [0., 0., 0.]])"
            ]
          },
          "metadata": {},
          "execution_count": 18
        }
      ]
    },
    {
      "cell_type": "markdown",
      "source": [
        "# Attributes of a Tensor"
      ],
      "metadata": {
        "id": "V60Xi1GoLd7S"
      }
    },
    {
      "cell_type": "markdown",
      "source": [
        "attributes describe shape, datatype and the device on which they are stored"
      ],
      "metadata": {
        "id": "TnckBzODLkOD"
      }
    },
    {
      "cell_type": "code",
      "source": [
        "tensor = torch.rand(3,4)\n",
        "tensor"
      ],
      "metadata": {
        "colab": {
          "base_uri": "https://localhost:8080/"
        },
        "id": "fsRoWu5rLwfm",
        "outputId": "68b1016a-634d-4290-db4a-bac67b66aed8"
      },
      "execution_count": 19,
      "outputs": [
        {
          "output_type": "execute_result",
          "data": {
            "text/plain": [
              "tensor([[0.6561, 0.9848, 0.8472, 0.9918],\n",
              "        [0.3048, 0.4323, 0.1134, 0.3283],\n",
              "        [0.3168, 0.4082, 0.0399, 0.2663]])"
            ]
          },
          "metadata": {},
          "execution_count": 19
        }
      ]
    },
    {
      "cell_type": "code",
      "source": [
        "print(f\"Shape of tensor:{tensor.shape}\")\n",
        "print(f\"Datatype of tensor:{tensor.dtype}\")\n",
        "print(f\"Device tensor is stored on:{tensor.device} \")"
      ],
      "metadata": {
        "colab": {
          "base_uri": "https://localhost:8080/"
        },
        "id": "97CmWW0NL0T2",
        "outputId": "19e8ea37-de5f-41f2-9cbd-68a100ad6ede"
      },
      "execution_count": 20,
      "outputs": [
        {
          "output_type": "stream",
          "name": "stdout",
          "text": [
            "Shape of tensor:torch.Size([3, 4])\n",
            "Datatype of tensor:torch.float32\n",
            "Device tensor is stored on:cpu \n"
          ]
        }
      ]
    },
    {
      "cell_type": "markdown",
      "source": [
        "# Moving tensor to the current accelerator if available"
      ],
      "metadata": {
        "id": "FbGMj_u6O-ry"
      }
    },
    {
      "cell_type": "code",
      "source": [
        "accelerator = Accelerator() # Instantiate Accelerator"
      ],
      "metadata": {
        "id": "ElKNsU3pR9wU"
      },
      "execution_count": 21,
      "outputs": []
    },
    {
      "cell_type": "code",
      "source": [
        "# Move tensor to the accelerator device\n",
        "if accelerator.is_local_main_process:  # Check if it's the main process\n",
        "    tensor = tensor.to(accelerator.device)"
      ],
      "metadata": {
        "id": "R_8mmo9ASKex"
      },
      "execution_count": 22,
      "outputs": []
    },
    {
      "cell_type": "markdown",
      "source": [],
      "metadata": {
        "id": "aw_QZ2rCSyMl"
      }
    },
    {
      "cell_type": "code",
      "source": [
        "# checking where the tensor is\n",
        "print(tensor.device)"
      ],
      "metadata": {
        "colab": {
          "base_uri": "https://localhost:8080/"
        },
        "id": "R3JD7ZkrShqt",
        "outputId": "4fa56fc7-84de-4519-c5b1-0089b2914ddc"
      },
      "execution_count": 23,
      "outputs": [
        {
          "output_type": "stream",
          "name": "stdout",
          "text": [
            "cuda:0\n"
          ]
        }
      ]
    },
    {
      "cell_type": "markdown",
      "source": [
        "# Standard numpy-like indexing and slicing"
      ],
      "metadata": {
        "id": "rlImwsuCTDN9"
      }
    },
    {
      "cell_type": "code",
      "source": [
        "# Rows, Columns (3,4) --> 3 Rows, 4 Columns"
      ],
      "metadata": {
        "id": "ML-oII3ST7Td"
      },
      "execution_count": 24,
      "outputs": []
    },
    {
      "cell_type": "code",
      "source": [
        "tensor = torch.ones(4, 4)"
      ],
      "metadata": {
        "id": "Zo3Mfh9zS8xt"
      },
      "execution_count": 25,
      "outputs": []
    },
    {
      "cell_type": "code",
      "source": [
        "tensor"
      ],
      "metadata": {
        "colab": {
          "base_uri": "https://localhost:8080/"
        },
        "id": "zn3IIBHvThzF",
        "outputId": "b038cf15-fbc4-45f3-d5e1-4be07acae0a8"
      },
      "execution_count": 26,
      "outputs": [
        {
          "output_type": "execute_result",
          "data": {
            "text/plain": [
              "tensor([[1., 1., 1., 1.],\n",
              "        [1., 1., 1., 1.],\n",
              "        [1., 1., 1., 1.],\n",
              "        [1., 1., 1., 1.]])"
            ]
          },
          "metadata": {},
          "execution_count": 26
        }
      ]
    },
    {
      "cell_type": "code",
      "source": [
        "print(f\"First row: {tensor[0]}\")\n",
        "print(f\"First columns: {tensor[:, 0]}\")\n",
        "print(f\"Last columns: {tensor[..., -1]}\")"
      ],
      "metadata": {
        "colab": {
          "base_uri": "https://localhost:8080/"
        },
        "id": "2ZtpS3byT82c",
        "outputId": "7ed90cb4-e6bd-49c2-e99b-bb04d2fb315f"
      },
      "execution_count": 27,
      "outputs": [
        {
          "output_type": "stream",
          "name": "stdout",
          "text": [
            "First row: tensor([1., 1., 1., 1.])\n",
            "First columns: tensor([1., 1., 1., 1.])\n",
            "Last columns: tensor([1., 1., 1., 1.])\n"
          ]
        }
      ]
    },
    {
      "cell_type": "code",
      "source": [
        "# turn second column to zeros\n",
        "tensor[:, 1] = 0"
      ],
      "metadata": {
        "id": "-MsAMcpSUoLd"
      },
      "execution_count": 28,
      "outputs": []
    },
    {
      "cell_type": "code",
      "source": [
        "print(tensor)"
      ],
      "metadata": {
        "colab": {
          "base_uri": "https://localhost:8080/"
        },
        "id": "jpnhLNLsVFXa",
        "outputId": "5b8caa14-531d-4060-b333-74bbd2fa5230"
      },
      "execution_count": 29,
      "outputs": [
        {
          "output_type": "stream",
          "name": "stdout",
          "text": [
            "tensor([[1., 0., 1., 1.],\n",
            "        [1., 0., 1., 1.],\n",
            "        [1., 0., 1., 1.],\n",
            "        [1., 0., 1., 1.]])\n"
          ]
        }
      ]
    },
    {
      "cell_type": "markdown",
      "source": [
        "# Joining Tensors"
      ],
      "metadata": {
        "id": "HoL4ZE0XVHSq"
      }
    },
    {
      "cell_type": "markdown",
      "source": [
        "torch.cat and torch.stack"
      ],
      "metadata": {
        "id": "ote2XSoEVj1p"
      }
    },
    {
      "cell_type": "code",
      "source": [
        "t1 = torch.cat([tensor, tensor, tensor ], dim =1)\n",
        "print(t1)"
      ],
      "metadata": {
        "colab": {
          "base_uri": "https://localhost:8080/"
        },
        "id": "USG4jmvLVs-H",
        "outputId": "7ae68cc9-0b65-4c2e-92af-c6267abb84dd"
      },
      "execution_count": 30,
      "outputs": [
        {
          "output_type": "stream",
          "name": "stdout",
          "text": [
            "tensor([[1., 0., 1., 1., 1., 0., 1., 1., 1., 0., 1., 1.],\n",
            "        [1., 0., 1., 1., 1., 0., 1., 1., 1., 0., 1., 1.],\n",
            "        [1., 0., 1., 1., 1., 0., 1., 1., 1., 0., 1., 1.],\n",
            "        [1., 0., 1., 1., 1., 0., 1., 1., 1., 0., 1., 1.]])\n"
          ]
        }
      ]
    },
    {
      "cell_type": "markdown",
      "source": [
        "# Arithmetic Operations"
      ],
      "metadata": {
        "id": "oyJGrAnBVz9N"
      }
    },
    {
      "cell_type": "markdown",
      "source": [
        "computing matrix multiplication between two tensors"
      ],
      "metadata": {
        "id": "ldgcykRzWLCe"
      }
    },
    {
      "cell_type": "markdown",
      "source": [
        "tensor.T returns the transpose of a tensor"
      ],
      "metadata": {
        "id": "tcslO1OiWSiz"
      }
    },
    {
      "cell_type": "markdown",
      "source": [
        " matrix multiplication https://www.mathsisfun.com/algebra/matrix-multiplying.html\n",
        "\n",
        " calculating determinant https://www.mathsisfun.com/algebra/matrix-determinant.html"
      ],
      "metadata": {
        "id": "sQf7MXvHWe5G"
      }
    },
    {
      "cell_type": "markdown",
      "source": [
        "Rows * columns"
      ],
      "metadata": {
        "id": "_C6_5T0iXbE-"
      }
    },
    {
      "cell_type": "code",
      "source": [
        "tensor"
      ],
      "metadata": {
        "colab": {
          "base_uri": "https://localhost:8080/"
        },
        "id": "gH6yU90sXsNW",
        "outputId": "712e0ab6-bff5-4a27-f10b-ba5fe6857661"
      },
      "execution_count": 31,
      "outputs": [
        {
          "output_type": "execute_result",
          "data": {
            "text/plain": [
              "tensor([[1., 0., 1., 1.],\n",
              "        [1., 0., 1., 1.],\n",
              "        [1., 0., 1., 1.],\n",
              "        [1., 0., 1., 1.]])"
            ]
          },
          "metadata": {},
          "execution_count": 31
        }
      ]
    },
    {
      "cell_type": "code",
      "source": [
        "tensor.T"
      ],
      "metadata": {
        "colab": {
          "base_uri": "https://localhost:8080/"
        },
        "id": "HIfWAcGwXt9R",
        "outputId": "c80e1921-a5bd-4c73-a527-d53d3c15cd35"
      },
      "execution_count": 32,
      "outputs": [
        {
          "output_type": "execute_result",
          "data": {
            "text/plain": [
              "tensor([[1., 1., 1., 1.],\n",
              "        [0., 0., 0., 0.],\n",
              "        [1., 1., 1., 1.],\n",
              "        [1., 1., 1., 1.]])"
            ]
          },
          "metadata": {},
          "execution_count": 32
        }
      ]
    },
    {
      "cell_type": "code",
      "source": [
        "# @ dotproduct or matmul\n",
        "y1 = tensor @ tensor.T\n",
        "y1"
      ],
      "metadata": {
        "colab": {
          "base_uri": "https://localhost:8080/"
        },
        "id": "F5QdZRtYXj_N",
        "outputId": "785cbf68-18db-4a5a-87e9-e974e22ff64f"
      },
      "execution_count": 33,
      "outputs": [
        {
          "output_type": "execute_result",
          "data": {
            "text/plain": [
              "tensor([[3., 3., 3., 3.],\n",
              "        [3., 3., 3., 3.],\n",
              "        [3., 3., 3., 3.],\n",
              "        [3., 3., 3., 3.]])"
            ]
          },
          "metadata": {},
          "execution_count": 33
        }
      ]
    },
    {
      "cell_type": "code",
      "source": [
        "# MatMul - matrix multiplication\n",
        "y2 = tensor.matmul(tensor.T)\n",
        "y2"
      ],
      "metadata": {
        "colab": {
          "base_uri": "https://localhost:8080/"
        },
        "id": "64u3e54HXpxY",
        "outputId": "21f01a7f-a39b-45e1-c8e1-5daaff965319"
      },
      "execution_count": 34,
      "outputs": [
        {
          "output_type": "execute_result",
          "data": {
            "text/plain": [
              "tensor([[3., 3., 3., 3.],\n",
              "        [3., 3., 3., 3.],\n",
              "        [3., 3., 3., 3.],\n",
              "        [3., 3., 3., 3.]])"
            ]
          },
          "metadata": {},
          "execution_count": 34
        }
      ]
    },
    {
      "cell_type": "markdown",
      "source": [
        "Returns a tensor with the same size as input that is filled with random numbers from a uniform distribution on the interval [0,1]"
      ],
      "metadata": {
        "id": "_EKFtZKIYW4I"
      }
    },
    {
      "cell_type": "code",
      "source": [
        "y3 = torch.rand_like(tensor)"
      ],
      "metadata": {
        "id": "8WO39DpsX791"
      },
      "execution_count": 35,
      "outputs": []
    },
    {
      "cell_type": "code",
      "source": [
        "y3"
      ],
      "metadata": {
        "colab": {
          "base_uri": "https://localhost:8080/"
        },
        "id": "VJiwYjtEYGru",
        "outputId": "3017014f-fb56-4d2c-8da7-6b7f0481c1ad"
      },
      "execution_count": 36,
      "outputs": [
        {
          "output_type": "execute_result",
          "data": {
            "text/plain": [
              "tensor([[0.6357, 0.2754, 0.9128, 0.4744],\n",
              "        [0.9548, 0.6968, 0.8462, 0.8831],\n",
              "        [0.7220, 0.4120, 0.3914, 0.4173],\n",
              "        [0.5631, 0.3499, 0.0487, 0.6010]])"
            ]
          },
          "metadata": {},
          "execution_count": 36
        }
      ]
    },
    {
      "cell_type": "code",
      "source": [
        "torch.matmul(tensor, tensor.T, out=y3)"
      ],
      "metadata": {
        "colab": {
          "base_uri": "https://localhost:8080/"
        },
        "id": "Q3LHdLxoYV43",
        "outputId": "70a42992-267c-4f30-883d-1622289f0dbe"
      },
      "execution_count": 37,
      "outputs": [
        {
          "output_type": "execute_result",
          "data": {
            "text/plain": [
              "tensor([[3., 3., 3., 3.],\n",
              "        [3., 3., 3., 3.],\n",
              "        [3., 3., 3., 3.],\n",
              "        [3., 3., 3., 3.]])"
            ]
          },
          "metadata": {},
          "execution_count": 37
        }
      ]
    },
    {
      "cell_type": "markdown",
      "source": [
        "# Compute Element wise product -  Hadamard product"
      ],
      "metadata": {
        "id": "IpTO1qsNZnPb"
      }
    },
    {
      "cell_type": "code",
      "source": [
        "# * element wise multiplication\n",
        "z1 = tensor * tensor\n",
        "z1"
      ],
      "metadata": {
        "colab": {
          "base_uri": "https://localhost:8080/"
        },
        "id": "rC2qQ1gIZsuF",
        "outputId": "1160ff0c-bc2c-49db-f268-268c5ef60f36"
      },
      "execution_count": 42,
      "outputs": [
        {
          "output_type": "execute_result",
          "data": {
            "text/plain": [
              "tensor([[1., 0., 1., 1.],\n",
              "        [1., 0., 1., 1.],\n",
              "        [1., 0., 1., 1.],\n",
              "        [1., 0., 1., 1.]])"
            ]
          },
          "metadata": {},
          "execution_count": 42
        }
      ]
    },
    {
      "cell_type": "code",
      "source": [
        "z2 = tensor.mul(tensor)\n",
        "z2"
      ],
      "metadata": {
        "colab": {
          "base_uri": "https://localhost:8080/"
        },
        "id": "Fa0UPLy_ZxWx",
        "outputId": "2e696dd4-02f9-4a41-e142-ec9728d0c5a0"
      },
      "execution_count": 43,
      "outputs": [
        {
          "output_type": "execute_result",
          "data": {
            "text/plain": [
              "tensor([[1., 0., 1., 1.],\n",
              "        [1., 0., 1., 1.],\n",
              "        [1., 0., 1., 1.],\n",
              "        [1., 0., 1., 1.]])"
            ]
          },
          "metadata": {},
          "execution_count": 43
        }
      ]
    },
    {
      "cell_type": "code",
      "source": [
        "z3 = torch.rand_like(tensor)\n",
        "z3"
      ],
      "metadata": {
        "colab": {
          "base_uri": "https://localhost:8080/"
        },
        "id": "UH_pr7IFfCVr",
        "outputId": "20a9ac1b-90e7-4f5e-9659-919482a6133d"
      },
      "execution_count": 45,
      "outputs": [
        {
          "output_type": "execute_result",
          "data": {
            "text/plain": [
              "tensor([[0.5577, 0.5185, 0.3308, 0.8129],\n",
              "        [0.1070, 0.2950, 0.7195, 0.9869],\n",
              "        [0.6308, 0.9426, 0.0575, 0.2046],\n",
              "        [0.0334, 0.9019, 0.1662, 0.0748]])"
            ]
          },
          "metadata": {},
          "execution_count": 45
        }
      ]
    },
    {
      "cell_type": "code",
      "source": [
        "torch.mul(tensor, tensor, out=z3)"
      ],
      "metadata": {
        "colab": {
          "base_uri": "https://localhost:8080/"
        },
        "id": "m_fbRiIIfdcT",
        "outputId": "8ba40443-6740-4807-870a-8ed918981cb9"
      },
      "execution_count": 46,
      "outputs": [
        {
          "output_type": "execute_result",
          "data": {
            "text/plain": [
              "tensor([[1., 0., 1., 1.],\n",
              "        [1., 0., 1., 1.],\n",
              "        [1., 0., 1., 1.],\n",
              "        [1., 0., 1., 1.]])"
            ]
          },
          "metadata": {},
          "execution_count": 46
        }
      ]
    },
    {
      "cell_type": "markdown",
      "source": [
        "# Single tensor elemnt to numerical value"
      ],
      "metadata": {
        "id": "ddC_x3HOfj4Q"
      }
    },
    {
      "cell_type": "code",
      "source": [
        "agg = tensor.sum()\n",
        "agg"
      ],
      "metadata": {
        "colab": {
          "base_uri": "https://localhost:8080/"
        },
        "id": "tsGpU5qufuxH",
        "outputId": "70b80a36-5974-4e43-a188-1de1d8cd91a3"
      },
      "execution_count": 48,
      "outputs": [
        {
          "output_type": "execute_result",
          "data": {
            "text/plain": [
              "tensor(12.)"
            ]
          },
          "metadata": {},
          "execution_count": 48
        }
      ]
    },
    {
      "cell_type": "code",
      "source": [
        "agg_item = agg.item()\n",
        "print(agg_item, type(agg_item))"
      ],
      "metadata": {
        "colab": {
          "base_uri": "https://localhost:8080/"
        },
        "id": "WtdGpTG_fzC7",
        "outputId": "626f483b-e52c-46f3-b6c2-4825b3b66179"
      },
      "execution_count": 51,
      "outputs": [
        {
          "output_type": "stream",
          "name": "stdout",
          "text": [
            "12.0 <class 'float'>\n"
          ]
        }
      ]
    },
    {
      "cell_type": "markdown",
      "source": [
        "# Inplace Operations"
      ],
      "metadata": {
        "id": "QxiaNmiMf8m9"
      }
    },
    {
      "cell_type": "markdown",
      "source": [
        "They store the result into the operand. They are denoted by a _suffix"
      ],
      "metadata": {
        "id": "GTa7yTCBgS8d"
      }
    },
    {
      "cell_type": "markdown",
      "source": [
        "They save some memory, but are problematic when computing derivatives because of an immediate loss of history. Hence, their use is discouraged"
      ],
      "metadata": {
        "id": "P5AxjChVgyi3"
      }
    },
    {
      "cell_type": "code",
      "source": [
        "print(f\"{tensor}\")"
      ],
      "metadata": {
        "colab": {
          "base_uri": "https://localhost:8080/"
        },
        "id": "iCwUZByRgeAO",
        "outputId": "64c8bfc7-1eba-4275-a531-b60e36f3ca57"
      },
      "execution_count": 53,
      "outputs": [
        {
          "output_type": "stream",
          "name": "stdout",
          "text": [
            "tensor([[1., 0., 1., 1.],\n",
            "        [1., 0., 1., 1.],\n",
            "        [1., 0., 1., 1.],\n",
            "        [1., 0., 1., 1.]]) \n",
            "\n"
          ]
        }
      ]
    },
    {
      "cell_type": "code",
      "source": [
        "tensor.add_(5)"
      ],
      "metadata": {
        "colab": {
          "base_uri": "https://localhost:8080/"
        },
        "id": "xfrooBJagiqb",
        "outputId": "182400d5-f4f0-4297-c5fd-046605b9f0d2"
      },
      "execution_count": 54,
      "outputs": [
        {
          "output_type": "execute_result",
          "data": {
            "text/plain": [
              "tensor([[6., 5., 6., 6.],\n",
              "        [6., 5., 6., 6.],\n",
              "        [6., 5., 6., 6.],\n",
              "        [6., 5., 6., 6.]])"
            ]
          },
          "metadata": {},
          "execution_count": 54
        }
      ]
    },
    {
      "cell_type": "code",
      "source": [
        "print(tensor)"
      ],
      "metadata": {
        "colab": {
          "base_uri": "https://localhost:8080/"
        },
        "id": "0fwCyH8Ugovx",
        "outputId": "30f8f4e9-8a6c-4d8f-dc58-537758f4ff5b"
      },
      "execution_count": 55,
      "outputs": [
        {
          "output_type": "stream",
          "name": "stdout",
          "text": [
            "tensor([[6., 5., 6., 6.],\n",
            "        [6., 5., 6., 6.],\n",
            "        [6., 5., 6., 6.],\n",
            "        [6., 5., 6., 6.]])\n"
          ]
        }
      ]
    },
    {
      "cell_type": "markdown",
      "source": [
        "# Tensor to NumPy array"
      ],
      "metadata": {
        "id": "3DHZvcnUgsvI"
      }
    },
    {
      "cell_type": "code",
      "source": [
        "t = torch.ones(5)"
      ],
      "metadata": {
        "id": "h58RiBFThWkd"
      },
      "execution_count": 57,
      "outputs": []
    },
    {
      "cell_type": "code",
      "source": [
        "t"
      ],
      "metadata": {
        "colab": {
          "base_uri": "https://localhost:8080/"
        },
        "id": "TKQo20RChZ0D",
        "outputId": "fd992d1e-1654-49f5-f51d-f13f12d12b8e"
      },
      "execution_count": 58,
      "outputs": [
        {
          "output_type": "execute_result",
          "data": {
            "text/plain": [
              "tensor([1., 1., 1., 1., 1.])"
            ]
          },
          "metadata": {},
          "execution_count": 58
        }
      ]
    },
    {
      "cell_type": "code",
      "source": [
        "n = t.numpy ()\n",
        "n"
      ],
      "metadata": {
        "colab": {
          "base_uri": "https://localhost:8080/"
        },
        "id": "GqBPPo-ZhaWq",
        "outputId": "7a60f47f-64e1-4496-f94f-7bb34eb5539f"
      },
      "execution_count": 59,
      "outputs": [
        {
          "output_type": "execute_result",
          "data": {
            "text/plain": [
              "array([1., 1., 1., 1., 1.], dtype=float32)"
            ]
          },
          "metadata": {},
          "execution_count": 59
        }
      ]
    },
    {
      "cell_type": "markdown",
      "source": [
        "A change in the tensor reflects in the NumPy array"
      ],
      "metadata": {
        "id": "tbVvftLThhPP"
      }
    },
    {
      "cell_type": "code",
      "source": [
        "t.add_(1)"
      ],
      "metadata": {
        "colab": {
          "base_uri": "https://localhost:8080/"
        },
        "id": "IL-b98Cahp4Y",
        "outputId": "f79daffa-1763-4db6-d342-c5ae1db06d48"
      },
      "execution_count": 61,
      "outputs": [
        {
          "output_type": "execute_result",
          "data": {
            "text/plain": [
              "tensor([2., 2., 2., 2., 2.])"
            ]
          },
          "metadata": {},
          "execution_count": 61
        }
      ]
    },
    {
      "cell_type": "code",
      "source": [
        "t"
      ],
      "metadata": {
        "colab": {
          "base_uri": "https://localhost:8080/"
        },
        "id": "iOyMD0oRhviG",
        "outputId": "a4c5c6f7-6f79-45b7-9ac6-6a5d7c3c8700"
      },
      "execution_count": 62,
      "outputs": [
        {
          "output_type": "execute_result",
          "data": {
            "text/plain": [
              "tensor([2., 2., 2., 2., 2.])"
            ]
          },
          "metadata": {},
          "execution_count": 62
        }
      ]
    },
    {
      "cell_type": "code",
      "source": [
        "n"
      ],
      "metadata": {
        "colab": {
          "base_uri": "https://localhost:8080/"
        },
        "id": "ZNVo0Q_-hw3P",
        "outputId": "1630a729-1de4-40b3-f3bf-fe117d3f9f1e"
      },
      "execution_count": 63,
      "outputs": [
        {
          "output_type": "execute_result",
          "data": {
            "text/plain": [
              "array([2., 2., 2., 2., 2.], dtype=float32)"
            ]
          },
          "metadata": {},
          "execution_count": 63
        }
      ]
    },
    {
      "cell_type": "markdown",
      "source": [
        "# NumPy array to Tensor"
      ],
      "metadata": {
        "id": "sFyc1UEohxTx"
      }
    },
    {
      "cell_type": "code",
      "source": [
        "n = np.ones(5)\n",
        "n"
      ],
      "metadata": {
        "colab": {
          "base_uri": "https://localhost:8080/"
        },
        "id": "yIM9az-1h3u2",
        "outputId": "a7c5bf7d-944e-441f-977c-d728a2e65e38"
      },
      "execution_count": 65,
      "outputs": [
        {
          "output_type": "execute_result",
          "data": {
            "text/plain": [
              "array([1., 1., 1., 1., 1.])"
            ]
          },
          "metadata": {},
          "execution_count": 65
        }
      ]
    },
    {
      "cell_type": "code",
      "source": [
        "t = torch.from_numpy(n)\n",
        "t"
      ],
      "metadata": {
        "colab": {
          "base_uri": "https://localhost:8080/"
        },
        "id": "QRs3F54ch6ou",
        "outputId": "169d944c-e5dd-42cf-ca78-f172c60cb365"
      },
      "execution_count": 67,
      "outputs": [
        {
          "output_type": "execute_result",
          "data": {
            "text/plain": [
              "tensor([1., 1., 1., 1., 1.], dtype=torch.float64)"
            ]
          },
          "metadata": {},
          "execution_count": 67
        }
      ]
    },
    {
      "cell_type": "markdown",
      "source": [
        "changes in numpy array reflects in the tensor"
      ],
      "metadata": {
        "id": "rFvikHGfiDNO"
      }
    },
    {
      "cell_type": "code",
      "source": [
        "np.add(n, 1, out=n)\n",
        "n"
      ],
      "metadata": {
        "colab": {
          "base_uri": "https://localhost:8080/"
        },
        "id": "h_1N5ChDiLdT",
        "outputId": "2f465b4d-deb8-45e0-b668-1b98be0a6126"
      },
      "execution_count": 71,
      "outputs": [
        {
          "output_type": "execute_result",
          "data": {
            "text/plain": [
              "array([3., 3., 3., 3., 3.])"
            ]
          },
          "metadata": {},
          "execution_count": 71
        }
      ]
    },
    {
      "cell_type": "code",
      "source": [],
      "metadata": {
        "id": "ltbwX49XiRdd"
      },
      "execution_count": null,
      "outputs": []
    }
  ]
}