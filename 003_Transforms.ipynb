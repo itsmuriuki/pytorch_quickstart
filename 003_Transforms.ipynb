{
  "nbformat": 4,
  "nbformat_minor": 0,
  "metadata": {
    "colab": {
      "provenance": []
    },
    "kernelspec": {
      "name": "python3",
      "display_name": "Python 3"
    },
    "language_info": {
      "name": "python"
    }
  },
  "cells": [
    {
      "cell_type": "code",
      "execution_count": null,
      "metadata": {
        "id": "o0T7Zpm_BCPd"
      },
      "outputs": [],
      "source": [
        "import torch\n",
        "import numpy as np"
      ]
    },
    {
      "cell_type": "markdown",
      "source": [
        "Data does not come in its final processed form that is required for training ML algorithms. Transform performs some manipulation of the data and make it suitable for training"
      ],
      "metadata": {
        "id": "B69GuQd0hxBM"
      }
    },
    {
      "cell_type": "markdown",
      "source": [
        "All TorchVision datasets have two parameters\n",
        " - transform to modify the features\n",
        " - target_transform to modify the labels"
      ],
      "metadata": {
        "id": "RZE7g256ijva"
      }
    },
    {
      "cell_type": "markdown",
      "source": [
        "Common transforms used"
      ],
      "metadata": {
        "id": "xITNCgc2izf-"
      }
    },
    {
      "cell_type": "markdown",
      "source": [
        "The FashionMNIST features are in PIL image formart, and the labels are integers. We need the features as normalized tensors, and labels as one -hot encoded tensors"
      ],
      "metadata": {
        "id": "vQF9hbt5jV6Q"
      }
    },
    {
      "cell_type": "code",
      "source": [
        "import torcch\n",
        "from torchvision import datasets\n",
        "from torchvision.transforms  import ToTensor, Lmbda #To make transformations we use ToTensor and Lambda\n",
        "\n",
        "\n",
        "ds = datasets.FashionMNIST(\n",
        "    root=\"data\",\n",
        "    train=True\n",
        "    download=True,\n",
        "    transform = ToTensor(),\n",
        "    target_transform = Lmbda(lambda y: torch.zeros(10, dtype=torch.float).scatter_(0, torch.tensor(y), value=1))\n",
        "\n",
        ")\n"
      ],
      "metadata": {
        "id": "Rl9ngCXD-mvC"
      },
      "execution_count": null,
      "outputs": []
    },
    {
      "cell_type": "markdown",
      "source": [
        "1. Lambda(lambda y: ...) -> this is part of torchvision.transform.Lambda fuction, it applies a custom transformation to the target (y) in a dataset\n",
        "\n",
        "2. torch.zeros(10, dtype=torch.float) -> creates a 1D tensor of size 10, initialized with zeros, the 10 suggests that we have 10 classes\n",
        "\n",
        "3. .scatter_(0, torch.tensor(y), value=1) --> modifies the tensor in place.\n",
        "scatter_ is used to set a specific index to 1 while keeping all others 0, effectively creating a 1 hot encoding\n",
        "\n",
        "4. torch.tensor(y) converts the target label(y) into a tensor (it should be an integer from 0 to 9)\n",
        "\n",
        "5. value=1. -> places a 1 at index y\n",
        "\n"
      ],
      "metadata": {
        "id": "PztCCX0Fjm9J"
      }
    },
    {
      "cell_type": "markdown",
      "source": [
        "# you can achieve the same using F.one_hot()"
      ],
      "metadata": {
        "id": "cAHOvtCoATkq"
      }
    },
    {
      "cell_type": "markdown",
      "source": [
        "Typically used in classification tasks where models like neural networks require labels in a one-hot encoded format instead of raw integer class indices.\n",
        "\n"
      ],
      "metadata": {
        "id": "2DKIlDAVChkc"
      }
    },
    {
      "cell_type": "code",
      "source": [
        "import torch\n",
        "import torch.nn.functional as F\n",
        "\n",
        "y=3\n",
        "\n",
        "one_hot = F.one_hot(torch.tensor(y), num_classes=10).float()\n",
        "print(one_hot)"
      ],
      "metadata": {
        "colab": {
          "base_uri": "https://localhost:8080/"
        },
        "id": "EpSN8kYPB-l3",
        "outputId": "1fe3f53b-9371-41c6-d5e7-a92b6bf0892d"
      },
      "execution_count": 1,
      "outputs": [
        {
          "output_type": "stream",
          "name": "stdout",
          "text": [
            "tensor([0., 0., 0., 1., 0., 0., 0., 0., 0., 0.])\n"
          ]
        }
      ]
    },
    {
      "cell_type": "markdown",
      "source": [
        "F.one_hot is often prefered it's cleaner and more readable"
      ],
      "metadata": {
        "id": "y5PsX_6OCMst"
      }
    },
    {
      "cell_type": "markdown",
      "source": [
        "# ToTensor()"
      ],
      "metadata": {
        "id": "BZPNhD2ECqe9"
      }
    },
    {
      "cell_type": "markdown",
      "source": [
        "ToTensor converts a PIL image or Numpy ndarry into a FloatTensor and scales the image's pixel intensity values in the range [0,1]"
      ],
      "metadata": {
        "id": "C70TlhEfCxGg"
      }
    },
    {
      "cell_type": "markdown",
      "source": [
        "# Lamnda Tranforms"
      ],
      "metadata": {
        "id": "XDGurvyODJsV"
      }
    },
    {
      "cell_type": "markdown",
      "source": [
        "Lambda transforms apply any user-defined lambda function."
      ],
      "metadata": {
        "id": "WvAUcF9hDSwC"
      }
    },
    {
      "cell_type": "markdown",
      "source": [
        "We defined a function to turn the integer into a onehot encoded tensor"
      ],
      "metadata": {
        "id": "ADsYXewpDcJH"
      }
    },
    {
      "cell_type": "markdown",
      "source": [
        "[Transforming and augmenting images](https://pytorch.org/vision/stable/transforms.html)"
      ],
      "metadata": {
        "id": "ECsefDrREjpB"
      }
    }
  ]
}