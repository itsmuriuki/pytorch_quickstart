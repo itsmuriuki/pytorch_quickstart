{
  "nbformat": 4,
  "nbformat_minor": 0,
  "metadata": {
    "colab": {
      "provenance": []
    },
    "kernelspec": {
      "name": "python3",
      "display_name": "Python 3"
    },
    "language_info": {
      "name": "python"
    }
  },
  "cells": [
    {
      "cell_type": "markdown",
      "source": [
        "Dataset code is decoupled from our Model training code for better readability and modularity"
      ],
      "metadata": {
        "id": "YSeA0cymsDpl"
      }
    },
    {
      "cell_type": "markdown",
      "source": [
        "Data loader -> wraps an iterable around the datasets to enable easy access to the samples"
      ],
      "metadata": {
        "id": "deZ0OJznsbrT"
      }
    },
    {
      "cell_type": "markdown",
      "source": [
        "We load a FashinMNIST Datasets witht the following parameters:\n",
        "* root: Is the path where the train/test data is stored\n",
        "* train: spcifies training or test datasets\n",
        "* download = True : downloads the data from the internet if it's not available at root\n",
        "* transform and target_transform: specify the feature and label transformations\n",
        "\n",
        "\n"
      ],
      "metadata": {
        "id": "M8Q931V7ss9l"
      }
    },
    {
      "cell_type": "code",
      "source": [
        "import torch\n",
        "from torch.utils.data import Dataset\n",
        "from torchvision import datasets\n",
        "from torchvision.transforms import ToTensor\n",
        "import matplotlib.pyplot as plt"
      ],
      "metadata": {
        "id": "581K7KbTs7re"
      },
      "execution_count": 2,
      "outputs": []
    },
    {
      "cell_type": "code",
      "source": [
        "training_data = datasets.FashionMNIST(\n",
        "    root = \"data\",\n",
        "    train = True,\n",
        "    download = True,\n",
        "    transform= ToTensor()\n",
        ")\n",
        "\n",
        "\n",
        "test_data = datasets.FashionMNIST(\n",
        "    root =\"data\",\n",
        "    train= False,\n",
        "    download=True,\n",
        "    transform=ToTensor()\n",
        ")"
      ],
      "metadata": {
        "colab": {
          "base_uri": "https://localhost:8080/"
        },
        "id": "_19byq4yt8qL",
        "outputId": "6fcf7157-a905-4334-caab-a24cd1ddc15f"
      },
      "execution_count": 4,
      "outputs": [
        {
          "output_type": "stream",
          "name": "stdout",
          "text": [
            "Downloading http://fashion-mnist.s3-website.eu-central-1.amazonaws.com/train-images-idx3-ubyte.gz\n",
            "Downloading http://fashion-mnist.s3-website.eu-central-1.amazonaws.com/train-images-idx3-ubyte.gz to data/FashionMNIST/raw/train-images-idx3-ubyte.gz\n"
          ]
        },
        {
          "output_type": "stream",
          "name": "stderr",
          "text": [
            "100%|██████████| 26.4M/26.4M [00:01<00:00, 21.9MB/s]\n"
          ]
        },
        {
          "output_type": "stream",
          "name": "stdout",
          "text": [
            "Extracting data/FashionMNIST/raw/train-images-idx3-ubyte.gz to data/FashionMNIST/raw\n",
            "\n",
            "Downloading http://fashion-mnist.s3-website.eu-central-1.amazonaws.com/train-labels-idx1-ubyte.gz\n",
            "Downloading http://fashion-mnist.s3-website.eu-central-1.amazonaws.com/train-labels-idx1-ubyte.gz to data/FashionMNIST/raw/train-labels-idx1-ubyte.gz\n"
          ]
        },
        {
          "output_type": "stream",
          "name": "stderr",
          "text": [
            "100%|██████████| 29.5k/29.5k [00:00<00:00, 334kB/s]\n"
          ]
        },
        {
          "output_type": "stream",
          "name": "stdout",
          "text": [
            "Extracting data/FashionMNIST/raw/train-labels-idx1-ubyte.gz to data/FashionMNIST/raw\n",
            "\n",
            "Downloading http://fashion-mnist.s3-website.eu-central-1.amazonaws.com/t10k-images-idx3-ubyte.gz\n",
            "Downloading http://fashion-mnist.s3-website.eu-central-1.amazonaws.com/t10k-images-idx3-ubyte.gz to data/FashionMNIST/raw/t10k-images-idx3-ubyte.gz\n"
          ]
        },
        {
          "output_type": "stream",
          "name": "stderr",
          "text": [
            "100%|██████████| 4.42M/4.42M [00:00<00:00, 6.35MB/s]\n"
          ]
        },
        {
          "output_type": "stream",
          "name": "stdout",
          "text": [
            "Extracting data/FashionMNIST/raw/t10k-images-idx3-ubyte.gz to data/FashionMNIST/raw\n",
            "\n",
            "Downloading http://fashion-mnist.s3-website.eu-central-1.amazonaws.com/t10k-labels-idx1-ubyte.gz\n",
            "Downloading http://fashion-mnist.s3-website.eu-central-1.amazonaws.com/t10k-labels-idx1-ubyte.gz to data/FashionMNIST/raw/t10k-labels-idx1-ubyte.gz\n"
          ]
        },
        {
          "output_type": "stream",
          "name": "stderr",
          "text": [
            "100%|██████████| 5.15k/5.15k [00:00<00:00, 12.8MB/s]\n"
          ]
        },
        {
          "output_type": "stream",
          "name": "stdout",
          "text": [
            "Extracting data/FashionMNIST/raw/t10k-labels-idx1-ubyte.gz to data/FashionMNIST/raw\n",
            "\n"
          ]
        }
      ]
    },
    {
      "cell_type": "code",
      "source": [
        "training_data"
      ],
      "metadata": {
        "colab": {
          "base_uri": "https://localhost:8080/"
        },
        "id": "Ezwn796qupZb",
        "outputId": "3d0cff6a-7bf4-4797-bef9-946508fc9ea4"
      },
      "execution_count": 5,
      "outputs": [
        {
          "output_type": "execute_result",
          "data": {
            "text/plain": [
              "Dataset FashionMNIST\n",
              "    Number of datapoints: 60000\n",
              "    Root location: data\n",
              "    Split: Train\n",
              "    StandardTransform\n",
              "Transform: ToTensor()"
            ]
          },
          "metadata": {},
          "execution_count": 5
        }
      ]
    },
    {
      "cell_type": "code",
      "source": [
        "test_data"
      ],
      "metadata": {
        "colab": {
          "base_uri": "https://localhost:8080/"
        },
        "id": "ODP5n3RLuv7P",
        "outputId": "ce61c9fb-49e9-4341-842c-07dc536ea9b8"
      },
      "execution_count": 7,
      "outputs": [
        {
          "output_type": "execute_result",
          "data": {
            "text/plain": [
              "Dataset FashionMNIST\n",
              "    Number of datapoints: 10000\n",
              "    Root location: data\n",
              "    Split: Test\n",
              "    StandardTransform\n",
              "Transform: ToTensor()"
            ]
          },
          "metadata": {},
          "execution_count": 7
        }
      ]
    },
    {
      "cell_type": "markdown",
      "source": [
        "60,000 training examples and 10,000 test examples."
      ],
      "metadata": {
        "id": "7qPc3b65uxST"
      }
    },
    {
      "cell_type": "markdown",
      "source": [
        "# Iterating and Visualizing the Datasets"
      ],
      "metadata": {
        "id": "eQaGTvR6u2ao"
      }
    },
    {
      "cell_type": "markdown",
      "source": [
        "we can index Datasets manually like a list training_data[index]"
      ],
      "metadata": {
        "id": "OxUhLGzOu_iu"
      }
    },
    {
      "cell_type": "code",
      "source": [
        "labels_map  = {\n",
        "    0: \"T-Shirt\",\n",
        "    1: \"Trouser\",\n",
        "    2: \"Pullover\",\n",
        "    3: \"Dress\",\n",
        "    4: \"Coat\",\n",
        "    5: \"Sandal\",\n",
        "    6: \"Shirt\",\n",
        "    7: \"Sneaker\",\n",
        "    8: \"Bag\",\n",
        "    9: \"Ankle Boot\",\n",
        "}"
      ],
      "metadata": {
        "id": "tAzhitZIvC-r"
      },
      "execution_count": 9,
      "outputs": []
    },
    {
      "cell_type": "code",
      "source": [
        "figure  = plt.figure(figsize=(8,8))\n",
        "cols, rows = 3, 3\n",
        "for i in range(1, cols* rows + 1 ):\n",
        "  # drwas the grid\n",
        "  sample_idx = torch.randint(len(training_data), size=(1,)).item()\n",
        "  img, label = training_data[sample_idx]\n",
        "  figure.add_subplot(rows, cols, i)\n",
        "  # fills the grid with images\n",
        "  plt.title(labels_map[label])\n",
        "  plt.axis(\"off\")\n",
        "  plt.imshow(img.squeeze(), cmap=\"gray\")\n",
        "plt.show()"
      ],
      "metadata": {
        "colab": {
          "base_uri": "https://localhost:8080/",
          "height": 675
        },
        "id": "K1lwhtozvPDZ",
        "outputId": "cb466776-b32f-4096-ba88-a389fa99675b"
      },
      "execution_count": 14,
      "outputs": [
        {
          "output_type": "display_data",
          "data": {
            "text/plain": [
              "<Figure size 800x800 with 9 Axes>"
            ],
            "image/png": "[encoded data removed]"
          },
          "metadata": {}
        }
      ]
    },
    {
      "cell_type": "markdown",
      "source": [
        "# Creating a Custom Dataset for your files"
      ],
      "metadata": {
        "id": "PMD25eBPvaCu"
      }
    },
    {
      "cell_type": "markdown",
      "source": [
        "A custom dataset class must implement three functions: __init__, __len__, and __getitem__.\n",
        "\n",
        "Images are stored in the directory img_dir\n",
        "Labels are stored in the csv annotations_file"
      ],
      "metadata": {
        "id": "zqaLiNOJwLy-"
      }
    },
    {
      "cell_type": "code",
      "source": [
        "import os\n",
        "import pandas as pd\n",
        "from torchvision.io import read_image"
      ],
      "metadata": {
        "id": "0p3rj1bTwhlw"
      },
      "execution_count": 17,
      "outputs": []
    },
    {
      "cell_type": "code",
      "source": [
        "class CustomImageDataset(Dataset): # instanciates the Dataset object, Initialize the directory containing images, annotation files, and both transforms\n",
        "  def __init__(self, annotation_files, img_dir, transform=None, target_transform=None):\n",
        "    self.img_labels = pd.read_csv(annotation_files)\n",
        "    self.img_dir = img_dir\n",
        "    self.transfrom= transform\n",
        "    self.target_transform= target_transform\n",
        "\n",
        "  def __len__(self): # returns the number of samples in the dataset\n",
        "    return len(self.img_labels)\n",
        "\n",
        "  def __getitem__(self, idx):\n",
        "    img_path = os.path.join(self.img_dir, self.img_labels.iloc[idx, 0]) # full path of image from the first column\n",
        "    image = read_image(img_path) # converts the image to a tensor\n",
        "    labels = self.img_labels.iloc[idx, 1] #get corresponding label from second columns in the csv dataset\n",
        "    if self.tranfrom: #apply image and label transfroms if provided\n",
        "      image = self.tranfrom(image)\n",
        "    if self.target_transform:\n",
        "      labels = self.target_transform(labels)\n",
        "    return image, labels #returns a tuple of the tensor image and corresponding label\n"
      ],
      "metadata": {
        "id": "jlA4lYpNw4y7"
      },
      "execution_count": 18,
      "outputs": []
    },
    {
      "cell_type": "markdown",
      "source": [
        "## How to use it"
      ],
      "metadata": {
        "id": "xUFbCsTW0AEv"
      }
    },
    {
      "cell_type": "code",
      "source": [
        "\n",
        "dataset = CustomImageDataset(\n",
        "    annotation_files='labels.csv',\n",
        "    img_dir='images/',\n",
        "    transform=transforms.Compose([transforms.Resize((224, 224)), transforms.ToTensor()])\n",
        ")\n",
        "dataloader = DataLoader(dataset, batch_size=32, shuffle=True)"
      ],
      "metadata": {
        "id": "DliCLULzzDCL"
      },
      "execution_count": null,
      "outputs": []
    },
    {
      "cell_type": "markdown",
      "source": [
        "# Preparing your data for training with Dataloaders"
      ],
      "metadata": {
        "id": "YmF6pX1S0oRc"
      }
    },
    {
      "cell_type": "markdown",
      "source": [
        "Dataset retrieves dataset features and labels one sample at a time. While training a model, we typically want to pass samples in minibatches, resuffle the data at every epoch to reduce model overfitting, and use python multiprocessing to speed up data retrival"
      ],
      "metadata": {
        "id": "kLdAtB_P0uRs"
      }
    },
    {
      "cell_type": "code",
      "source": [
        "from torch.utils.data import DataLoader\n",
        "\n",
        "# Loading the dataset into the dataloader\n",
        "\n",
        "train_dataloader = DataLoader(training_data, batch_size= 64, shuffle=True)\n",
        "test_dataloader = DataLoader(test_data, batch_size=64, shuffle=True )"
      ],
      "metadata": {
        "id": "w3S7asgh5HV8"
      },
      "execution_count": 20,
      "outputs": []
    },
    {
      "cell_type": "markdown",
      "source": [
        "Each iteration inside the dataloader returns a batch of training_features and train_labels, Since shuffle= True after we iterate over all batches the data is shuffled."
      ],
      "metadata": {
        "id": "QbGmarVs6jJB"
      }
    },
    {
      "cell_type": "markdown",
      "source": [
        "# Iterate throught the DataLoader"
      ],
      "metadata": {
        "id": "lTtlwZkp6OVt"
      }
    },
    {
      "cell_type": "code",
      "source": [
        "train_features, train_labels = next(iter(train_dataloader))\n",
        "print(f\"Feature batch shape: {train_features.size()}\")\n",
        "print(f\"Labels batch shape: {train_labels.size()}\")"
      ],
      "metadata": {
        "colab": {
          "base_uri": "https://localhost:8080/"
        },
        "id": "o4G56JkX6Pqb",
        "outputId": "b6b58297-947f-4781-d99e-e7e55b7b9875"
      },
      "execution_count": 24,
      "outputs": [
        {
          "output_type": "stream",
          "name": "stdout",
          "text": [
            "Feature batch shape: torch.Size([64, 1, 28, 28])\n",
            "Labels batch shape: torch.Size([64])\n"
          ]
        }
      ]
    },
    {
      "cell_type": "code",
      "source": [
        "train_labels"
      ],
      "metadata": {
        "colab": {
          "base_uri": "https://localhost:8080/"
        },
        "id": "VmlilfMJ78vi",
        "outputId": "2aca0487-85b5-4c4d-d7c2-69a488e86c5d"
      },
      "execution_count": 26,
      "outputs": [
        {
          "output_type": "execute_result",
          "data": {
            "text/plain": [
              "tensor([1, 4, 6, 8, 1, 6, 9, 3, 7, 5, 4, 7, 3, 9, 2, 3, 8, 5, 5, 8, 7, 5, 0, 9,\n",
              "        5, 9, 9, 8, 0, 9, 2, 8, 7, 9, 3, 4, 8, 3, 2, 2, 6, 4, 0, 0, 0, 5, 6, 3,\n",
              "        3, 9, 8, 3, 8, 1, 1, 4, 2, 2, 5, 3, 6, 6, 3, 4])"
            ]
          },
          "metadata": {},
          "execution_count": 26
        }
      ]
    },
    {
      "cell_type": "code",
      "source": [
        "train_features[0]"
      ],
      "metadata": {
        "colab": {
          "base_uri": "https://localhost:8080/"
        },
        "id": "IkPed-MJ8BpF",
        "outputId": "18d61c07-0c1f-4e3f-a9a4-1a16a55e675b"
      },
      "execution_count": 30,
      "outputs": [
        {
          "output_type": "execute_result",
          "data": {
            "text/plain": [
              "tensor([[[0.0000, 0.0000, 0.0000, 0.0000, 0.0000, 0.0000, 0.0000, 0.0000,\n",
              "          0.0000, 0.0000, 0.1765, 0.7098, 0.6157, 0.4627, 0.4000, 0.6706,\n",
              "          0.5412, 0.5020, 0.1294, 0.0000, 0.0000, 0.0000, 0.0000, 0.0000,\n",
              "          0.0000, 0.0000, 0.0000, 0.0000],\n",
              "         [0.0000, 0.0000, 0.0000, 0.0000, 0.0000, 0.0000, 0.0000, 0.0000,\n",
              "          0.0000, 0.0000, 0.4314, 0.9373, 0.7843, 0.7843, 0.8902, 0.9255,\n",
              "          0.5843, 0.4667, 0.2902, 0.0000, 0.0000, 0.0000, 0.0000, 0.0000,\n",
              "          0.0000, 0.0000, 0.0000, 0.0000],\n",
              "         [0.0000, 0.0000, 0.0000, 0.0000, 0.0000, 0.0000, 0.0000, 0.0000,\n",
              "          0.0000, 0.0000, 0.6392, 0.7216, 0.7176, 0.7922, 0.8353, 0.6588,\n",
              "          0.5333, 0.4549, 0.4824, 0.0000, 0.0000, 0.0000, 0.0000, 0.0000,\n",
              "          0.0000, 0.0000, 0.0000, 0.0000],\n",
              "         [0.0000, 0.0000, 0.0000, 0.0000, 0.0000, 0.0000, 0.0000, 0.0000,\n",
              "          0.0000, 0.0784, 0.9255, 0.7373, 0.7843, 0.7725, 0.4510, 0.6588,\n",
              "          0.6392, 0.6549, 0.6000, 0.0275, 0.0000, 0.0000, 0.0000, 0.0000,\n",
              "          0.0000, 0.0000, 0.0000, 0.0000],\n",
              "         [0.0000, 0.0000, 0.0000, 0.0000, 0.0000, 0.0000, 0.0000, 0.0000,\n",
              "          0.0000, 0.2941, 0.8627, 0.6824, 0.7882, 0.8118, 0.7137, 0.6863,\n",
              "          0.6431, 0.6667, 0.7059, 0.1490, 0.0000, 0.0000, 0.0000, 0.0000,\n",
              "          0.0000, 0.0000, 0.0000, 0.0000],\n",
              "         [0.0000, 0.0000, 0.0000, 0.0000, 0.0000, 0.0000, 0.0000, 0.0000,\n",
              "          0.0000, 0.4353, 0.7804, 0.6824, 0.7765, 0.6706, 0.6863, 0.6549,\n",
              "          0.5608, 0.5882, 0.6353, 0.2118, 0.0000, 0.0000, 0.0000, 0.0000,\n",
              "          0.0000, 0.0000, 0.0000, 0.0000],\n",
              "         [0.0000, 0.0000, 0.0000, 0.0000, 0.0000, 0.0000, 0.0000, 0.0000,\n",
              "          0.0000, 0.5020, 0.6549, 0.5647, 0.7608, 0.8275, 0.7647, 0.6863,\n",
              "          0.5176, 0.4902, 0.5647, 0.3137, 0.0000, 0.0000, 0.0000, 0.0000,\n",
              "          0.0000, 0.0000, 0.0000, 0.0000],\n",
              "         [0.0000, 0.0000, 0.0000, 0.0000, 0.0000, 0.0000, 0.0000, 0.0000,\n",
              "          0.0000, 0.5176, 0.6235, 0.4824, 0.6275, 0.7843, 0.9059, 0.7961,\n",
              "          0.4863, 0.4667, 0.5059, 0.3647, 0.0000, 0.0000, 0.0000, 0.0000,\n",
              "          0.0000, 0.0000, 0.0000, 0.0000],\n",
              "         [0.0000, 0.0000, 0.0000, 0.0000, 0.0000, 0.0000, 0.0000, 0.0000,\n",
              "          0.0000, 0.5412, 0.6353, 0.4941, 0.6392, 0.6784, 0.3961, 0.9137,\n",
              "          0.5059, 0.4745, 0.4902, 0.3765, 0.0000, 0.0000, 0.0000, 0.0000,\n",
              "          0.0000, 0.0000, 0.0000, 0.0000],\n",
              "         [0.0000, 0.0000, 0.0000, 0.0000, 0.0000, 0.0000, 0.0000, 0.0000,\n",
              "          0.0000, 0.4941, 0.6353, 0.4549, 0.6275, 0.6863, 0.0941, 1.0000,\n",
              "          0.4941, 0.4627, 0.5059, 0.3255, 0.0000, 0.0000, 0.0000, 0.0000,\n",
              "          0.0000, 0.0000, 0.0000, 0.0000],\n",
              "         [0.0000, 0.0000, 0.0000, 0.0000, 0.0000, 0.0000, 0.0000, 0.0000,\n",
              "          0.0000, 0.4627, 0.6588, 0.4235, 0.6627, 0.6039, 0.0000, 1.0000,\n",
              "          0.5529, 0.4431, 0.5333, 0.2157, 0.0000, 0.0000, 0.0000, 0.0000,\n",
              "          0.0000, 0.0000, 0.0000, 0.0000],\n",
              "         [0.0000, 0.0000, 0.0000, 0.0000, 0.0000, 0.0000, 0.0000, 0.0000,\n",
              "          0.0000, 0.4078, 0.6431, 0.4392, 0.7333, 0.3725, 0.0000, 0.8314,\n",
              "          0.6039, 0.3961, 0.5216, 0.1569, 0.0000, 0.0000, 0.0000, 0.0000,\n",
              "          0.0000, 0.0000, 0.0000, 0.0000],\n",
              "         [0.0000, 0.0000, 0.0000, 0.0000, 0.0000, 0.0000, 0.0000, 0.0000,\n",
              "          0.0000, 0.3412, 0.6667, 0.4392, 0.7490, 0.1804, 0.0000, 0.7059,\n",
              "          0.6196, 0.4039, 0.5098, 0.0627, 0.0000, 0.0000, 0.0000, 0.0000,\n",
              "          0.0000, 0.0000, 0.0000, 0.0000],\n",
              "         [0.0000, 0.0000, 0.0000, 0.0000, 0.0000, 0.0000, 0.0000, 0.0000,\n",
              "          0.0000, 0.2471, 0.6745, 0.4235, 0.7059, 0.1020, 0.0000, 0.6549,\n",
              "          0.5647, 0.3922, 0.5059, 0.0000, 0.0000, 0.0000, 0.0000, 0.0000,\n",
              "          0.0000, 0.0000, 0.0000, 0.0000],\n",
              "         [0.0000, 0.0000, 0.0000, 0.0000, 0.0000, 0.0000, 0.0000, 0.0000,\n",
              "          0.0000, 0.1255, 0.7176, 0.4824, 0.7020, 0.0196, 0.0000, 0.6196,\n",
              "          0.5608, 0.4157, 0.4627, 0.0000, 0.0000, 0.0000, 0.0000, 0.0000,\n",
              "          0.0000, 0.0000, 0.0000, 0.0000],\n",
              "         [0.0000, 0.0000, 0.0000, 0.0000, 0.0000, 0.0000, 0.0000, 0.0000,\n",
              "          0.0000, 0.0471, 0.7216, 0.4706, 0.6667, 0.0000, 0.0000, 0.5490,\n",
              "          0.5569, 0.4431, 0.3490, 0.0000, 0.0000, 0.0000, 0.0000, 0.0000,\n",
              "          0.0000, 0.0000, 0.0000, 0.0000],\n",
              "         [0.0000, 0.0000, 0.0000, 0.0000, 0.0000, 0.0000, 0.0000, 0.0000,\n",
              "          0.0000, 0.0039, 0.7255, 0.5059, 0.6275, 0.0000, 0.0000, 0.4784,\n",
              "          0.5843, 0.4235, 0.2824, 0.0000, 0.0000, 0.0000, 0.0000, 0.0000,\n",
              "          0.0000, 0.0000, 0.0000, 0.0000],\n",
              "         [0.0000, 0.0000, 0.0000, 0.0000, 0.0000, 0.0000, 0.0000, 0.0000,\n",
              "          0.0000, 0.0000, 0.7490, 0.5333, 0.6431, 0.0000, 0.0000, 0.4392,\n",
              "          0.6275, 0.4510, 0.2863, 0.0000, 0.0000, 0.0000, 0.0000, 0.0000,\n",
              "          0.0000, 0.0000, 0.0000, 0.0000],\n",
              "         [0.0000, 0.0000, 0.0000, 0.0000, 0.0000, 0.0000, 0.0000, 0.0000,\n",
              "          0.0000, 0.0275, 0.8078, 0.6353, 0.5804, 0.0000, 0.0000, 0.2824,\n",
              "          0.7176, 0.5569, 0.3098, 0.0000, 0.0000, 0.0000, 0.0000, 0.0000,\n",
              "          0.0000, 0.0000, 0.0000, 0.0000],\n",
              "         [0.0000, 0.0000, 0.0000, 0.0000, 0.0000, 0.0000, 0.0000, 0.0000,\n",
              "          0.0000, 0.1176, 0.7373, 0.7020, 0.3686, 0.0000, 0.0000, 0.0196,\n",
              "          0.7373, 0.6549, 0.3647, 0.0000, 0.0000, 0.0000, 0.0000, 0.0000,\n",
              "          0.0000, 0.0000, 0.0000, 0.0000],\n",
              "         [0.0000, 0.0000, 0.0000, 0.0000, 0.0000, 0.0000, 0.0000, 0.0000,\n",
              "          0.0000, 0.2745, 0.7725, 0.6863, 0.2510, 0.0000, 0.0000, 0.0000,\n",
              "          0.6784, 0.7020, 0.5137, 0.0000, 0.0000, 0.0000, 0.0000, 0.0000,\n",
              "          0.0000, 0.0000, 0.0000, 0.0000],\n",
              "         [0.0000, 0.0000, 0.0000, 0.0000, 0.0000, 0.0000, 0.0000, 0.0000,\n",
              "          0.0000, 0.3412, 0.7647, 0.6824, 0.2510, 0.0000, 0.0000, 0.0000,\n",
              "          0.6824, 0.7098, 0.6000, 0.0000, 0.0000, 0.0000, 0.0000, 0.0000,\n",
              "          0.0000, 0.0000, 0.0000, 0.0000],\n",
              "         [0.0000, 0.0000, 0.0000, 0.0000, 0.0000, 0.0000, 0.0000, 0.0000,\n",
              "          0.0000, 0.3137, 0.7725, 0.7020, 0.2627, 0.0000, 0.0000, 0.0000,\n",
              "          0.6745, 0.7333, 0.6353, 0.0000, 0.0000, 0.0000, 0.0000, 0.0000,\n",
              "          0.0000, 0.0000, 0.0000, 0.0000],\n",
              "         [0.0000, 0.0000, 0.0000, 0.0000, 0.0000, 0.0000, 0.0000, 0.0000,\n",
              "          0.0000, 0.2000, 0.7647, 0.6863, 0.1412, 0.0000, 0.0000, 0.0000,\n",
              "          0.6000, 0.7647, 0.5922, 0.0000, 0.0000, 0.0000, 0.0000, 0.0000,\n",
              "          0.0000, 0.0000, 0.0000, 0.0000],\n",
              "         [0.0000, 0.0000, 0.0000, 0.0000, 0.0000, 0.0000, 0.0000, 0.0000,\n",
              "          0.0000, 0.0863, 0.7843, 0.6784, 0.0627, 0.0000, 0.0078, 0.0000,\n",
              "          0.5137, 0.7725, 0.5255, 0.0000, 0.0000, 0.0000, 0.0000, 0.0000,\n",
              "          0.0000, 0.0000, 0.0000, 0.0000],\n",
              "         [0.0000, 0.0000, 0.0000, 0.0000, 0.0000, 0.0000, 0.0000, 0.0000,\n",
              "          0.0000, 0.0000, 0.7647, 0.6588, 0.0039, 0.0000, 0.0078, 0.0000,\n",
              "          0.4353, 0.7647, 0.4275, 0.0000, 0.0000, 0.0000, 0.0000, 0.0000,\n",
              "          0.0000, 0.0000, 0.0000, 0.0000],\n",
              "         [0.0000, 0.0000, 0.0000, 0.0000, 0.0000, 0.0000, 0.0000, 0.0000,\n",
              "          0.0000, 0.0784, 0.7882, 0.6588, 0.0118, 0.0000, 0.0157, 0.0000,\n",
              "          0.4353, 0.8078, 0.5216, 0.0000, 0.0000, 0.0000, 0.0000, 0.0000,\n",
              "          0.0000, 0.0000, 0.0000, 0.0000],\n",
              "         [0.0000, 0.0000, 0.0000, 0.0000, 0.0000, 0.0000, 0.0000, 0.0000,\n",
              "          0.0000, 0.0627, 0.2431, 0.0824, 0.0000, 0.0000, 0.0039, 0.0000,\n",
              "          0.0510, 0.2588, 0.1882, 0.0000, 0.0000, 0.0000, 0.0000, 0.0000,\n",
              "          0.0000, 0.0000, 0.0000, 0.0000]]])"
            ]
          },
          "metadata": {},
          "execution_count": 30
        }
      ]
    },
    {
      "cell_type": "code",
      "source": [
        "img = train_features[0].squeeze()\n",
        "label = train_labels[0]"
      ],
      "metadata": {
        "id": "SS2qRIFB7Rz_"
      },
      "execution_count": 42,
      "outputs": []
    },
    {
      "cell_type": "code",
      "source": [
        "img"
      ],
      "metadata": {
        "colab": {
          "base_uri": "https://localhost:8080/"
        },
        "id": "xXXToqzS9d67",
        "outputId": "08807cea-d9fc-4bd6-dad5-c8f530e4180b"
      },
      "execution_count": 43,
      "outputs": [
        {
          "output_type": "execute_result",
          "data": {
            "text/plain": [
              "tensor([[0.0000, 0.0000, 0.0000, 0.0000, 0.0000, 0.0000, 0.0000, 0.0000, 0.0000,\n",
              "         0.0000, 0.1765, 0.7098, 0.6157, 0.4627, 0.4000, 0.6706, 0.5412, 0.5020,\n",
              "         0.1294, 0.0000, 0.0000, 0.0000, 0.0000, 0.0000, 0.0000, 0.0000, 0.0000,\n",
              "         0.0000],\n",
              "        [0.0000, 0.0000, 0.0000, 0.0000, 0.0000, 0.0000, 0.0000, 0.0000, 0.0000,\n",
              "         0.0000, 0.4314, 0.9373, 0.7843, 0.7843, 0.8902, 0.9255, 0.5843, 0.4667,\n",
              "         0.2902, 0.0000, 0.0000, 0.0000, 0.0000, 0.0000, 0.0000, 0.0000, 0.0000,\n",
              "         0.0000],\n",
              "        [0.0000, 0.0000, 0.0000, 0.0000, 0.0000, 0.0000, 0.0000, 0.0000, 0.0000,\n",
              "         0.0000, 0.6392, 0.7216, 0.7176, 0.7922, 0.8353, 0.6588, 0.5333, 0.4549,\n",
              "         0.4824, 0.0000, 0.0000, 0.0000, 0.0000, 0.0000, 0.0000, 0.0000, 0.0000,\n",
              "         0.0000],\n",
              "        [0.0000, 0.0000, 0.0000, 0.0000, 0.0000, 0.0000, 0.0000, 0.0000, 0.0000,\n",
              "         0.0784, 0.9255, 0.7373, 0.7843, 0.7725, 0.4510, 0.6588, 0.6392, 0.6549,\n",
              "         0.6000, 0.0275, 0.0000, 0.0000, 0.0000, 0.0000, 0.0000, 0.0000, 0.0000,\n",
              "         0.0000],\n",
              "        [0.0000, 0.0000, 0.0000, 0.0000, 0.0000, 0.0000, 0.0000, 0.0000, 0.0000,\n",
              "         0.2941, 0.8627, 0.6824, 0.7882, 0.8118, 0.7137, 0.6863, 0.6431, 0.6667,\n",
              "         0.7059, 0.1490, 0.0000, 0.0000, 0.0000, 0.0000, 0.0000, 0.0000, 0.0000,\n",
              "         0.0000],\n",
              "        [0.0000, 0.0000, 0.0000, 0.0000, 0.0000, 0.0000, 0.0000, 0.0000, 0.0000,\n",
              "         0.4353, 0.7804, 0.6824, 0.7765, 0.6706, 0.6863, 0.6549, 0.5608, 0.5882,\n",
              "         0.6353, 0.2118, 0.0000, 0.0000, 0.0000, 0.0000, 0.0000, 0.0000, 0.0000,\n",
              "         0.0000],\n",
              "        [0.0000, 0.0000, 0.0000, 0.0000, 0.0000, 0.0000, 0.0000, 0.0000, 0.0000,\n",
              "         0.5020, 0.6549, 0.5647, 0.7608, 0.8275, 0.7647, 0.6863, 0.5176, 0.4902,\n",
              "         0.5647, 0.3137, 0.0000, 0.0000, 0.0000, 0.0000, 0.0000, 0.0000, 0.0000,\n",
              "         0.0000],\n",
              "        [0.0000, 0.0000, 0.0000, 0.0000, 0.0000, 0.0000, 0.0000, 0.0000, 0.0000,\n",
              "         0.5176, 0.6235, 0.4824, 0.6275, 0.7843, 0.9059, 0.7961, 0.4863, 0.4667,\n",
              "         0.5059, 0.3647, 0.0000, 0.0000, 0.0000, 0.0000, 0.0000, 0.0000, 0.0000,\n",
              "         0.0000],\n",
              "        [0.0000, 0.0000, 0.0000, 0.0000, 0.0000, 0.0000, 0.0000, 0.0000, 0.0000,\n",
              "         0.5412, 0.6353, 0.4941, 0.6392, 0.6784, 0.3961, 0.9137, 0.5059, 0.4745,\n",
              "         0.4902, 0.3765, 0.0000, 0.0000, 0.0000, 0.0000, 0.0000, 0.0000, 0.0000,\n",
              "         0.0000],\n",
              "        [0.0000, 0.0000, 0.0000, 0.0000, 0.0000, 0.0000, 0.0000, 0.0000, 0.0000,\n",
              "         0.4941, 0.6353, 0.4549, 0.6275, 0.6863, 0.0941, 1.0000, 0.4941, 0.4627,\n",
              "         0.5059, 0.3255, 0.0000, 0.0000, 0.0000, 0.0000, 0.0000, 0.0000, 0.0000,\n",
              "         0.0000],\n",
              "        [0.0000, 0.0000, 0.0000, 0.0000, 0.0000, 0.0000, 0.0000, 0.0000, 0.0000,\n",
              "         0.4627, 0.6588, 0.4235, 0.6627, 0.6039, 0.0000, 1.0000, 0.5529, 0.4431,\n",
              "         0.5333, 0.2157, 0.0000, 0.0000, 0.0000, 0.0000, 0.0000, 0.0000, 0.0000,\n",
              "         0.0000],\n",
              "        [0.0000, 0.0000, 0.0000, 0.0000, 0.0000, 0.0000, 0.0000, 0.0000, 0.0000,\n",
              "         0.4078, 0.6431, 0.4392, 0.7333, 0.3725, 0.0000, 0.8314, 0.6039, 0.3961,\n",
              "         0.5216, 0.1569, 0.0000, 0.0000, 0.0000, 0.0000, 0.0000, 0.0000, 0.0000,\n",
              "         0.0000],\n",
              "        [0.0000, 0.0000, 0.0000, 0.0000, 0.0000, 0.0000, 0.0000, 0.0000, 0.0000,\n",
              "         0.3412, 0.6667, 0.4392, 0.7490, 0.1804, 0.0000, 0.7059, 0.6196, 0.4039,\n",
              "         0.5098, 0.0627, 0.0000, 0.0000, 0.0000, 0.0000, 0.0000, 0.0000, 0.0000,\n",
              "         0.0000],\n",
              "        [0.0000, 0.0000, 0.0000, 0.0000, 0.0000, 0.0000, 0.0000, 0.0000, 0.0000,\n",
              "         0.2471, 0.6745, 0.4235, 0.7059, 0.1020, 0.0000, 0.6549, 0.5647, 0.3922,\n",
              "         0.5059, 0.0000, 0.0000, 0.0000, 0.0000, 0.0000, 0.0000, 0.0000, 0.0000,\n",
              "         0.0000],\n",
              "        [0.0000, 0.0000, 0.0000, 0.0000, 0.0000, 0.0000, 0.0000, 0.0000, 0.0000,\n",
              "         0.1255, 0.7176, 0.4824, 0.7020, 0.0196, 0.0000, 0.6196, 0.5608, 0.4157,\n",
              "         0.4627, 0.0000, 0.0000, 0.0000, 0.0000, 0.0000, 0.0000, 0.0000, 0.0000,\n",
              "         0.0000],\n",
              "        [0.0000, 0.0000, 0.0000, 0.0000, 0.0000, 0.0000, 0.0000, 0.0000, 0.0000,\n",
              "         0.0471, 0.7216, 0.4706, 0.6667, 0.0000, 0.0000, 0.5490, 0.5569, 0.4431,\n",
              "         0.3490, 0.0000, 0.0000, 0.0000, 0.0000, 0.0000, 0.0000, 0.0000, 0.0000,\n",
              "         0.0000],\n",
              "        [0.0000, 0.0000, 0.0000, 0.0000, 0.0000, 0.0000, 0.0000, 0.0000, 0.0000,\n",
              "         0.0039, 0.7255, 0.5059, 0.6275, 0.0000, 0.0000, 0.4784, 0.5843, 0.4235,\n",
              "         0.2824, 0.0000, 0.0000, 0.0000, 0.0000, 0.0000, 0.0000, 0.0000, 0.0000,\n",
              "         0.0000],\n",
              "        [0.0000, 0.0000, 0.0000, 0.0000, 0.0000, 0.0000, 0.0000, 0.0000, 0.0000,\n",
              "         0.0000, 0.7490, 0.5333, 0.6431, 0.0000, 0.0000, 0.4392, 0.6275, 0.4510,\n",
              "         0.2863, 0.0000, 0.0000, 0.0000, 0.0000, 0.0000, 0.0000, 0.0000, 0.0000,\n",
              "         0.0000],\n",
              "        [0.0000, 0.0000, 0.0000, 0.0000, 0.0000, 0.0000, 0.0000, 0.0000, 0.0000,\n",
              "         0.0275, 0.8078, 0.6353, 0.5804, 0.0000, 0.0000, 0.2824, 0.7176, 0.5569,\n",
              "         0.3098, 0.0000, 0.0000, 0.0000, 0.0000, 0.0000, 0.0000, 0.0000, 0.0000,\n",
              "         0.0000],\n",
              "        [0.0000, 0.0000, 0.0000, 0.0000, 0.0000, 0.0000, 0.0000, 0.0000, 0.0000,\n",
              "         0.1176, 0.7373, 0.7020, 0.3686, 0.0000, 0.0000, 0.0196, 0.7373, 0.6549,\n",
              "         0.3647, 0.0000, 0.0000, 0.0000, 0.0000, 0.0000, 0.0000, 0.0000, 0.0000,\n",
              "         0.0000],\n",
              "        [0.0000, 0.0000, 0.0000, 0.0000, 0.0000, 0.0000, 0.0000, 0.0000, 0.0000,\n",
              "         0.2745, 0.7725, 0.6863, 0.2510, 0.0000, 0.0000, 0.0000, 0.6784, 0.7020,\n",
              "         0.5137, 0.0000, 0.0000, 0.0000, 0.0000, 0.0000, 0.0000, 0.0000, 0.0000,\n",
              "         0.0000],\n",
              "        [0.0000, 0.0000, 0.0000, 0.0000, 0.0000, 0.0000, 0.0000, 0.0000, 0.0000,\n",
              "         0.3412, 0.7647, 0.6824, 0.2510, 0.0000, 0.0000, 0.0000, 0.6824, 0.7098,\n",
              "         0.6000, 0.0000, 0.0000, 0.0000, 0.0000, 0.0000, 0.0000, 0.0000, 0.0000,\n",
              "         0.0000],\n",
              "        [0.0000, 0.0000, 0.0000, 0.0000, 0.0000, 0.0000, 0.0000, 0.0000, 0.0000,\n",
              "         0.3137, 0.7725, 0.7020, 0.2627, 0.0000, 0.0000, 0.0000, 0.6745, 0.7333,\n",
              "         0.6353, 0.0000, 0.0000, 0.0000, 0.0000, 0.0000, 0.0000, 0.0000, 0.0000,\n",
              "         0.0000],\n",
              "        [0.0000, 0.0000, 0.0000, 0.0000, 0.0000, 0.0000, 0.0000, 0.0000, 0.0000,\n",
              "         0.2000, 0.7647, 0.6863, 0.1412, 0.0000, 0.0000, 0.0000, 0.6000, 0.7647,\n",
              "         0.5922, 0.0000, 0.0000, 0.0000, 0.0000, 0.0000, 0.0000, 0.0000, 0.0000,\n",
              "         0.0000],\n",
              "        [0.0000, 0.0000, 0.0000, 0.0000, 0.0000, 0.0000, 0.0000, 0.0000, 0.0000,\n",
              "         0.0863, 0.7843, 0.6784, 0.0627, 0.0000, 0.0078, 0.0000, 0.5137, 0.7725,\n",
              "         0.5255, 0.0000, 0.0000, 0.0000, 0.0000, 0.0000, 0.0000, 0.0000, 0.0000,\n",
              "         0.0000],\n",
              "        [0.0000, 0.0000, 0.0000, 0.0000, 0.0000, 0.0000, 0.0000, 0.0000, 0.0000,\n",
              "         0.0000, 0.7647, 0.6588, 0.0039, 0.0000, 0.0078, 0.0000, 0.4353, 0.7647,\n",
              "         0.4275, 0.0000, 0.0000, 0.0000, 0.0000, 0.0000, 0.0000, 0.0000, 0.0000,\n",
              "         0.0000],\n",
              "        [0.0000, 0.0000, 0.0000, 0.0000, 0.0000, 0.0000, 0.0000, 0.0000, 0.0000,\n",
              "         0.0784, 0.7882, 0.6588, 0.0118, 0.0000, 0.0157, 0.0000, 0.4353, 0.8078,\n",
              "         0.5216, 0.0000, 0.0000, 0.0000, 0.0000, 0.0000, 0.0000, 0.0000, 0.0000,\n",
              "         0.0000],\n",
              "        [0.0000, 0.0000, 0.0000, 0.0000, 0.0000, 0.0000, 0.0000, 0.0000, 0.0000,\n",
              "         0.0627, 0.2431, 0.0824, 0.0000, 0.0000, 0.0039, 0.0000, 0.0510, 0.2588,\n",
              "         0.1882, 0.0000, 0.0000, 0.0000, 0.0000, 0.0000, 0.0000, 0.0000, 0.0000,\n",
              "         0.0000]])"
            ]
          },
          "metadata": {},
          "execution_count": 43
        }
      ]
    },
    {
      "cell_type": "code",
      "source": [
        "label"
      ],
      "metadata": {
        "colab": {
          "base_uri": "https://localhost:8080/"
        },
        "id": "basfXFBZ9fOg",
        "outputId": "9f7fcbb8-3836-43cd-d966-67d2110b9c84"
      },
      "execution_count": 44,
      "outputs": [
        {
          "output_type": "execute_result",
          "data": {
            "text/plain": [
              "tensor(1)"
            ]
          },
          "metadata": {},
          "execution_count": 44
        }
      ]
    },
    {
      "cell_type": "code",
      "source": [
        "plt.imshow(img, cmap=\"gray\")\n",
        "plt.show()\n",
        "print(f\"Label: {label}\")"
      ],
      "metadata": {
        "colab": {
          "base_uri": "https://localhost:8080/",
          "height": 448
        },
        "id": "EEh5p9Qg9PmN",
        "outputId": "aefd0311-9d3e-403e-9631-0494384f84d8"
      },
      "execution_count": 45,
      "outputs": [
        {
          "output_type": "display_data",
          "data": {
            "text/plain": [
              "<Figure size 640x480 with 1 Axes>"
            ],
            "image/png": "[encoded data removed]"
          },
          "metadata": {}
        },
        {
          "output_type": "stream",
          "name": "stdout",
          "text": [
            "Label: 1\n"
          ]
        }
      ]
    },
    {
      "cell_type": "code",
      "source": [
        "#  To do\n",
        "# 1. Broadcasting\n",
        "# 2. why you need to squeeze"
      ],
      "metadata": {
        "id": "33Fj-UPu8HKB"
      },
      "execution_count": 46,
      "outputs": []
    },
    {
      "cell_type": "markdown",
      "source": [
        "Further Reading -> https://pytorch.org/docs/stable/data.html"
      ],
      "metadata": {
        "id": "EZG3x8e88lt0"
      }
    },
    {
      "cell_type": "code",
      "source": [],
      "metadata": {
        "id": "RBDzbLdo93h1"
      },
      "execution_count": null,
      "outputs": []
    }
  ]
}